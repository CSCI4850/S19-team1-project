{
 "cells": [
  {
   "cell_type": "code",
   "execution_count": 18,
   "metadata": {},
   "outputs": [],
   "source": [
    "import keras\n",
    "from keras.preprocessing import image\n",
    "\n",
    "import numpy as np\n",
    "\n",
    "import matplotlib.pyplot as plt\n",
    "%matplotlib inline"
   ]
  },
  {
   "cell_type": "code",
   "execution_count": 4,
   "metadata": {},
   "outputs": [],
   "source": [
    "model = keras.models.load_model('model.model')\n",
    "model.load_weights('model.weights')"
   ]
  },
  {
   "cell_type": "code",
   "execution_count": 11,
   "metadata": {},
   "outputs": [],
   "source": [
    "size = 100\n",
    "def grab_image(img_path):\n",
    "    img = image.load_img(img_path, target_size = (size, size))\n",
    "    x = image.img_to_array(img)\n",
    "    x = np.expand_dims(x, axis = 0)\n",
    "    return x\n",
    "\n",
    "img = grab_image('plastic_bottle.jpg')\n",
    "img = (img - img.mean()) / img.std()"
   ]
  },
  {
   "cell_type": "code",
   "execution_count": 28,
   "metadata": {},
   "outputs": [
    {
     "name": "stdout",
     "output_type": "stream",
     "text": [
      "Predictions: \n",
      "Glass:  4.76 %\n",
      "Paper:  0.07 %\n",
      "Cardboard:  1.08 %\n",
      "Plastic:  60.4 %\n",
      "Metal:  33.68 %\n",
      "Trash:  0.0 %\n"
     ]
    },
    {
     "data": {
      "image/png": "[encoded data removed]",
      "text/plain": [
       "<Figure size 432x288 with 1 Axes>"
      ]
     },
     "metadata": {
      "needs_background": "light"
     },
     "output_type": "display_data"
    }
   ],
   "source": [
    "pred = model.predict(img)\n",
    "\n",
    "np.set_printoptions(suppress = True)\n",
    "print(\"Predictions: \")\n",
    "print(\"Glass:\\t\", np.round(pred[0, 0] * 100, 2), '%')\n",
    "print(\"Paper:\\t\", np.round(pred[0, 1] * 100, 2), '%')\n",
    "print(\"Cardboard: \", np.round(pred[0, 2] * 100, 2), '%')\n",
    "print(\"Plastic:\\t\", np.round(pred[0, 3] * 100, 2), '%')\n",
    "print(\"Metal:\\t\", np.round(pred[0, 4] * 100, 2), '%')\n",
    "print(\"Trash: \", np.round(pred[0, 5] * 100, 2), '%')\n",
    "\n",
    "plt.imshow(keras.preprocessing.image.array_to_img(img[0, :, :, :]))\n",
    "plt.show()"
   ]
  },
  {
   "cell_type": "code",
   "execution_count": null,
   "metadata": {},
   "outputs": [],
   "source": []
  }
 ],
 "metadata": {
  "kernelspec": {
   "display_name": "Python 3",
   "language": "python",
   "name": "python3"
  },
  "language_info": {
   "codemirror_mode": {
    "name": "ipython",
    "version": 3
   },
   "file_extension": ".py",
   "mimetype": "text/x-python",
   "name": "python",
   "nbconvert_exporter": "python",
   "pygments_lexer": "ipython3",
   "version": "3.6.7"
  }
 },
 "nbformat": 4,
 "nbformat_minor": 2
}
