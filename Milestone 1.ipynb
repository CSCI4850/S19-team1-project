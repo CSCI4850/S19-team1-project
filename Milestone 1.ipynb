{
 "cells": [
  {
   "cell_type": "markdown",
   "metadata": {},
   "source": [
    "<h1> Milestone Report 1 </h1>\n",
    "<h2> 3/14/2019 </h2>\n",
    "<h3> Team Members </h3>\n",
    "<ul>\n",
    "    <li> Armstrong, Ryan</li>\n",
    "    <li> Nelson, Cory</li>\n",
    "    <li> Phulwani, Richa</li>\n",
    "    <li> Smith, Stephen</li>\n",
    "    <li> Vanlandingham, Mathew</li>\n",
    "</ul>"
   ]
  },
  {
   "cell_type": "markdown",
   "metadata": {},
   "source": [
    "<table>\n",
    "    <tr>\n",
    "        <th>MILESTONE Chart 1 </th>\n",
    "    </tr>\n",
    "    <tr>\n",
    "        <th>Deliverable </th>\n",
    "        <th> Percent Complete</th>\n",
    "        <th> Estimated Completion Date</th>\n",
    "        <th> Percent Complete by Next Milestone</th>\n",
    "    </tr>\n",
    "    <tr>\n",
    "        <th>Code </th>\n",
    "        <th>0 </th>\n",
    "        <th>Apr. 20 </th>\n",
    "        <th>15</th>\n",
    "    </tr>\n",
    "    <tr>\n",
    "        <th>Paper</th>\n",
    "        <th>0</th>\n",
    "        <th>Apr. 23</th>\n",
    "        <th>0</th>\n",
    "    </tr>\n",
    "    <tr>\n",
    "        <th>Demo</th>\n",
    "        <th>0</th>\n",
    "        <th>Apr. 30</th>\n",
    "        <th>0</th>\n",
    "    </tr>\n",
    "    <tr>\n",
    "        <th>Presentation</th>\n",
    "        <th>0</th>\n",
    "        <th>May 1</th>\n",
    "        <th>0</th>\n",
    "    </tr>\n",
    "</table>"
   ]
  },
  {
   "cell_type": "markdown",
   "metadata": {},
   "source": [
    "<p>\n",
    "        In the time since the formation of our team we have been planning and exploring tools we can use to complete the project. Currently, we are looking at websites where we could pull images for our data set, and are looking into whether we ought to develop our own web-scraping tool, or if a pre-built bulk downloading service would meet our needs. A dataset with images classified as plastic, metal, glass, etc. was found as an open source on Github. If the data is specific enough for our project, we might be able to use it. There are also extensions available that allow the user to download multiple images from a webpage. Shutterstock has thousands of images for each category that we were looking into, so we could grab the images with the Bulk Image Downloader Chrome Extension. We still need to figure out how to label the images with the category labels, and how to load the dataset into the network.\n",
    "\n",
    "Progress on this project is proceeding as expected.\n",
    "    \n",
    "Internally, we have put together a Discord server, a platform with similar features to Slack, to help improve group communication.\n",
    "</p>"
   ]
  }
 ],
 "metadata": {
  "kernelspec": {
   "display_name": "Python 3",
   "language": "python",
   "name": "python3"
  },
  "language_info": {
   "codemirror_mode": {
    "name": "ipython",
    "version": 3
   },
   "file_extension": ".py",
   "mimetype": "text/x-python",
   "name": "python",
   "nbconvert_exporter": "python",
   "pygments_lexer": "ipython3",
   "version": "3.6.7"
  }
 },
 "nbformat": 4,
 "nbformat_minor": 2
}
