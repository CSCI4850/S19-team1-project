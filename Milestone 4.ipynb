{
 "cells": [
  {
   "cell_type": "markdown",
   "metadata": {},
   "source": [
    "<h1> Milestone Report 4 </h1>\n",
    "<h2> 4/25/2019 </h2>\n",
    "<h3> Team Members </h3>\n",
    "<ul>\n",
    "    <li> Armstrong, Ryan </li>\n",
    "    <li> Nelson, Cory </li>\n",
    "    <li> Phulwani, Richa </li>\n",
    "    <li> Smith, Stephen </li>\n",
    "    <li> Vanlandingham, Mathew </li>\n",
    "</ul>\n"
   ]
  },
  {
   "cell_type": "markdown",
   "metadata": {},
   "source": [
    "<table>\n",
    "    <tr>\n",
    "        <th> Milestone Chart 3 </th>\n",
    "    </tr>\n",
    "    <tr>\n",
    "        <th> Deliverable </th>\n",
    "        <th> Percent Complete </th>\n",
    "        <th> Estimated Completion Date </th>\n",
    "        <th> Percent Complete by Next Milestone </th>\n",
    "    </tr>\n",
    "    <tr>\n",
    "        <th> Code </th>\n",
    "        <th> 100 </th>\n",
    "        <th> April 23 - Completed </th>\n",
    "        <th> 100 </th>\n",
    "    </tr>\n",
    "    <tr>\n",
    "        <th> Paper </th>\n",
    "        <th> 100 </th>\n",
    "        <th> April 23 - Completed </th>\n",
    "        <th> 100 </th>\n",
    "    </tr>\n",
    "    <tr>\n",
    "        <th> Demo </th>\n",
    "        <th> 50 </th>\n",
    "        <th> May 2 </th>\n",
    "        <th> 100 </th>\n",
    "    </tr>\n",
    "    <tr>\n",
    "        <th> Presentation </th>\n",
    "        <th> 0 </th>\n",
    "        <th> May 2 </th>\n",
    "        <th> 100 </th>\n",
    "    </tr>\n",
    "</table>"
   ]
  },
  {
   "cell_type": "markdown",
   "metadata": {},
   "source": [
    "1. What deliverable goals established in the last milestone report were accomplished to the anticipated percentage?<br>\n",
    "The network was finalized and the paper was completed.  The abstract and introduction for the paper were seemingly cut off by LaTeX, though.\n",
    "\n",
    "2. What deliverable goals established in the last milestone report were not accomplished to the anticipated percentage?<br>\n",
    "All effort had been put toward finalizing the network and finishing the paper.  Work on the presentation did not occur.\n",
    "\n",
    "3. What are the main deliverable goals to meet before the next milestone report and who is working on them?<br>\n",
    "<ul>\n",
    "    <li> Modify demo code, if necessary - Ryan </li>\n",
    "    <li> Upload images for demo to Jupyter system - Matt </li>\n",
    "    <li> Work on presentation - Cory, Matt, Richa, Ryan, and Stephen </li>\n",
    "</ul>"
   ]
  },
  {
   "cell_type": "code",
   "execution_count": null,
   "metadata": {},
   "outputs": [],
   "source": []
  }
 ],
 "metadata": {
  "kernelspec": {
   "display_name": "Python 3",
   "language": "python",
   "name": "python3"
  },
  "language_info": {
   "codemirror_mode": {
    "name": "ipython",
    "version": 3
   },
   "file_extension": ".py",
   "mimetype": "text/x-python",
   "name": "python",
   "nbconvert_exporter": "python",
   "pygments_lexer": "ipython3",
   "version": "3.6.7"
  }
 },
 "nbformat": 4,
 "nbformat_minor": 2
}
